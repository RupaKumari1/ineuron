{
 "cells": [
  {
   "cell_type": "markdown",
   "id": "5a45d15e",
   "metadata": {},
   "source": [
    "# Python Basics: Assignment_1"
   ]
  },
  {
   "cell_type": "markdown",
   "id": "965c85f6",
   "metadata": {},
   "source": [
    "### Q1. In the below elements which of them are values or an expression? eg:- values can be\n",
    "integer or string and expressions will be mathematical operators.\n",
    "\n",
    "*\n",
    "\n",
    "'hello'\n",
    "\n",
    "-87.8\n",
    "\n",
    "-\n",
    "\n",
    "/\n",
    "\n",
    "+\n",
    "\n",
    "6"
   ]
  },
  {
   "cell_type": "markdown",
   "id": "895cadae",
   "metadata": {},
   "source": [
    "#### Ans:\n",
    "    Values are 'hello', -87.8 and 8\n",
    "    Expressions are *, -, /, +"
   ]
  },
  {
   "cell_type": "markdown",
   "id": "0371bb07",
   "metadata": {},
   "source": [
    "### Q2. What is the difference between string and variable?"
   ]
  },
  {
   "cell_type": "markdown",
   "id": "9041542d",
   "metadata": {},
   "source": [
    "#### Ans\n",
    "A String is a type of information you would store in a Variable and a Variable is a store of information."
   ]
  },
  {
   "cell_type": "markdown",
   "id": "1070b17c",
   "metadata": {},
   "source": [
    "### Q3 Describe three different data types."
   ]
  },
  {
   "cell_type": "markdown",
   "id": "00c7ecfd",
   "metadata": {},
   "source": [
    "#### Ans\n",
    "1. int type that can store integer values \n",
    "2. String type: Any character or sentanse can be store there. String can be accessed as whole or as list of characters by using index values\n",
    "3. List type store data in list format. Data can be accessed using index values\n"
   ]
  },
  {
   "cell_type": "markdown",
   "id": "7f1725f8",
   "metadata": {},
   "source": [
    "### Q4 What is an expression made up of? What do all expressions do?"
   ]
  },
  {
   "cell_type": "markdown",
   "id": "2fc6deb4",
   "metadata": {},
   "source": [
    "#### Ans\n",
    "An expression is a combination of operators and operands that is interpreted to produce some other value. "
   ]
  },
  {
   "cell_type": "markdown",
   "id": "0074da2d",
   "metadata": {},
   "source": [
    "### Q5. This assignment statements, like spam = 10. What is the difference between an expression and a statement?"
   ]
  },
  {
   "cell_type": "markdown",
   "id": "4d6ab0f6",
   "metadata": {},
   "source": [
    "#### Ans\n",
    "Expression: Combination of number and mathmatical operator \n",
    "\n",
    "Statement is just a single line print or log or any commands"
   ]
  },
  {
   "cell_type": "markdown",
   "id": "8912878a",
   "metadata": {},
   "source": [
    "### Q6. After running the following code, what does the variable bacon contain?\n",
    "bacon = 22\n",
    "\n",
    "bacon + 1"
   ]
  },
  {
   "cell_type": "code",
   "execution_count": 10,
   "id": "0fbb725b",
   "metadata": {},
   "outputs": [
    {
     "data": {
      "text/plain": [
       "23"
      ]
     },
     "execution_count": 10,
     "metadata": {},
     "output_type": "execute_result"
    }
   ],
   "source": [
    "bacon = 22\n",
    "bacon + 1"
   ]
  },
  {
   "cell_type": "markdown",
   "id": "4a5ea0c8",
   "metadata": {},
   "source": [
    "### Q7. What should the values of the following two terms be?\n",
    "'spam'+'spamspam'\n",
    "\n",
    "'spam'*3"
   ]
  },
  {
   "cell_type": "code",
   "execution_count": 7,
   "id": "ac537b3d",
   "metadata": {},
   "outputs": [
    {
     "name": "stdout",
     "output_type": "stream",
     "text": [
      "Answers are given below: \n",
      "spamspamspam\n",
      "spamspamspam\n"
     ]
    }
   ],
   "source": [
    "print('Answers are given below: ')\n",
    "print('spam'+'spamspam')\n",
    "print('spam'*3)"
   ]
  },
  {
   "cell_type": "markdown",
   "id": "3f7d4c9f",
   "metadata": {},
   "source": [
    "### Q8. Why is eggs a valid variable name while 100 is invalid?"
   ]
  },
  {
   "cell_type": "markdown",
   "id": "579b8ebd",
   "metadata": {},
   "source": [
    "#### Ans\n",
    "As per rule, varible name should not start with a integer values"
   ]
  },
  {
   "cell_type": "markdown",
   "id": "cf673614",
   "metadata": {},
   "source": [
    "### Q9. What three functions can be used to get the integer, floating-point number, or string version of a value?"
   ]
  },
  {
   "cell_type": "code",
   "execution_count": 11,
   "id": "6c315964",
   "metadata": {},
   "outputs": [
    {
     "data": {
      "text/plain": [
       "''"
      ]
     },
     "execution_count": 11,
     "metadata": {},
     "output_type": "execute_result"
    }
   ],
   "source": [
    "int()\n",
    "float()\n",
    "str()\n"
   ]
  },
  {
   "cell_type": "markdown",
   "id": "929f8914",
   "metadata": {},
   "source": [
    "### Q10. Why does this expression cause an error? How can you fix it?\n",
    "'I have eaten'+99+'burritos.'"
   ]
  },
  {
   "cell_type": "code",
   "execution_count": 14,
   "id": "df07a8d4",
   "metadata": {},
   "outputs": [
    {
     "data": {
      "text/plain": [
       "'I have eaten99burritos.'"
      ]
     },
     "execution_count": 14,
     "metadata": {},
     "output_type": "execute_result"
    }
   ],
   "source": [
    "### Add str function to convert 99 to str\n",
    "'I have eaten'+str(99)+'burritos.'"
   ]
  },
  {
   "cell_type": "code",
   "execution_count": null,
   "id": "cba19bc5",
   "metadata": {},
   "outputs": [],
   "source": []
  }
 ],
 "metadata": {
  "kernelspec": {
   "display_name": "Python 3",
   "language": "python",
   "name": "python3"
  },
  "language_info": {
   "codemirror_mode": {
    "name": "ipython",
    "version": 3
   },
   "file_extension": ".py",
   "mimetype": "text/x-python",
   "name": "python",
   "nbconvert_exporter": "python",
   "pygments_lexer": "ipython3",
   "version": "3.7.8"
  }
 },
 "nbformat": 4,
 "nbformat_minor": 5
}
